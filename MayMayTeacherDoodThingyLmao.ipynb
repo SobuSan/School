{
  "nbformat": 4,
  "nbformat_minor": 0,
  "metadata": {
    "colab": {
      "name": "MayMayTeacherDoodThingyLmao.ipynb",
      "provenance": [],
      "collapsed_sections": [],
      "authorship_tag": "ABX9TyN2q55sjwDDLFb/SWniu/bW",
      "include_colab_link": true
    },
    "kernelspec": {
      "name": "python3",
      "display_name": "Python 3"
    }
  },
  "cells": [
    {
      "cell_type": "markdown",
      "metadata": {
        "id": "view-in-github",
        "colab_type": "text"
      },
      "source": [
        "<a href=\"https://colab.research.google.com/github/SobuSan/School/blob/main/MayMayTeacherDoodThingyLmao.ipynb\" target=\"_parent\"><img src=\"https://colab.research.google.com/assets/colab-badge.svg\" alt=\"Open In Colab\"/></a>"
      ]
    },
    {
      "cell_type": "code",
      "metadata": {
        "colab": {
          "base_uri": "https://localhost:8080/"
        },
        "id": "jAutsI9-c6vM",
        "outputId": "e0cf4501-32eb-4774-ca9a-f2700f5b471a"
      },
      "source": [
        "rad = int(input('Radius = '))\r\n",
        "area = 3.14 * rad * rad\r\n",
        "circum = 3.14 * 2 * rad\r\n",
        "print(\"area of circle is \" + str(area))\r\n",
        "print(\"circumference of circle is \" + str(circum))"
      ],
      "execution_count": null,
      "outputs": [
        {
          "output_type": "stream",
          "text": [
            "Radius = 12\n",
            "area of circle is 452.15999999999997\n",
            "circumference of circle is 75.36\n"
          ],
          "name": "stdout"
        }
      ]
    },
    {
      "cell_type": "code",
      "metadata": {
        "colab": {
          "base_uri": "https://localhost:8080/"
        },
        "id": "Kt26Pa7DjopA",
        "outputId": "d851877d-ef1e-4253-843e-9bc77430eea6"
      },
      "source": [
        "a = int(input('length of side a : '))\r\n",
        "b = int(input('length of side b : '))\r\n",
        "c = int(input('length of side c : '))\r\n",
        "if a == b == c:\r\n",
        "  print(\"it is an equilateral triangle.\")\r\n",
        "elif a == b != c or b == c != a or a == c != b:\r\n",
        "  print(\"it is an isosceles triangle.\")\r\n",
        "else:\r\n",
        "  print(\"it is an scalene triangle.\")"
      ],
      "execution_count": null,
      "outputs": [
        {
          "output_type": "stream",
          "text": [
            "length of side a : 1\n",
            "length of side b : 1\n",
            "length of side c : 1\n",
            "it is an equilateral triangle.\n"
          ],
          "name": "stdout"
        }
      ]
    },
    {
      "cell_type": "code",
      "metadata": {
        "colab": {
          "base_uri": "https://localhost:8080/"
        },
        "id": "VqvpPhPdkvHE",
        "outputId": "d25139a6-5e65-4ed6-adb8-ee3a8e04a620"
      },
      "source": [
        "age = int(input(\"user's age : \"))\r\n",
        "if age >= 18:\r\n",
        "  print(\"User is eligible.\")\r\n",
        "else:\r\n",
        "  print(\"User is not eligible.\")"
      ],
      "execution_count": null,
      "outputs": [
        {
          "output_type": "stream",
          "text": [
            "user's age : 2\n",
            "User is not eligible.\n"
          ],
          "name": "stdout"
        }
      ]
    },
    {
      "cell_type": "code",
      "metadata": {
        "colab": {
          "base_uri": "https://localhost:8080/"
        },
        "id": "ebQt7sRFmlOd",
        "outputId": "f87047d2-3c85-42ab-aead-639cbb1fd20b"
      },
      "source": [
        "num = range(0, 10)\r\n",
        "sum = 0\r\n",
        "for i in num:\r\n",
        "  sum += i\r\n",
        "  print(sum)\r\n"
      ],
      "execution_count": null,
      "outputs": [
        {
          "output_type": "stream",
          "text": [
            "0\n",
            "1\n",
            "3\n",
            "6\n",
            "10\n",
            "15\n",
            "21\n",
            "28\n",
            "36\n",
            "45\n"
          ],
          "name": "stdout"
        }
      ]
    },
    {
      "cell_type": "code",
      "metadata": {
        "colab": {
          "base_uri": "https://localhost:8080/"
        },
        "id": "IMeIRErioh2W",
        "outputId": "c8cbd742-5a5e-4617-e707-57e159a6aaff"
      },
      "source": [
        "num = int(input(\"Enter your number : \"))\r\n",
        "if num % 2 == 0:\r\n",
        "  print(str(num) + \" is an even number.\")\r\n",
        "else:\r\n",
        "  print(str(num) + \" is an odd number.\")\r\n"
      ],
      "execution_count": null,
      "outputs": [
        {
          "output_type": "stream",
          "text": [
            "Enter your number : 0\n",
            "0 is an even number.\n"
          ],
          "name": "stdout"
        }
      ]
    },
    {
      "cell_type": "code",
      "metadata": {
        "colab": {
          "base_uri": "https://localhost:8080/"
        },
        "id": "_I-BWhnZq1hB",
        "outputId": "d990c343-0907-4664-b684-e0c0c8710ae5"
      },
      "source": [
        "num = int(input(\"Enter the number : \"))\r\n",
        "table = range(1, 11)\r\n",
        "for i in table:\r\n",
        "  mult = num * i\r\n",
        "  print(str(num) + \" x \" + str(i) + \" = \" + str(mult))"
      ],
      "execution_count": null,
      "outputs": [
        {
          "output_type": "stream",
          "text": [
            "Enter the number : 2\n",
            "2 x 1 = 2\n",
            "2 x 2 = 4\n",
            "2 x 3 = 6\n",
            "2 x 4 = 8\n",
            "2 x 5 = 10\n",
            "2 x 6 = 12\n",
            "2 x 7 = 14\n",
            "2 x 8 = 16\n",
            "2 x 9 = 18\n",
            "2 x 10 = 20\n"
          ],
          "name": "stdout"
        }
      ]
    },
    {
      "cell_type": "code",
      "metadata": {
        "colab": {
          "base_uri": "https://localhost:8080/"
        },
        "id": "7rswiH8Kt1lx",
        "outputId": "6e863ef6-f2aa-442e-c47e-d3479c3b6d1b"
      },
      "source": [
        "price = int(input(\"Enter the cost of the bike : \"))\r\n",
        "if price <= 50000:\r\n",
        "  percent = price * 5 / 100\r\n",
        "  print(\"Road tax to be paid is 5%.\" + \" Road tax to be paid is \" + str(percent))\r\n",
        "elif price > 50000 and price <= 100000:\r\n",
        "  percent1 = price * 10 / 100\r\n",
        "  print(\"Road tax to be paid is 10%.\" + \" Road tax to be paid is \" + str(percent1))\r\n",
        "elif price > 100000:\r\n",
        "  percent2 = price * 20 / 100\r\n",
        "  print(\"Road tax to be paid is 20%.\" + \" Road tax to be paid is \" + str(percent2))\r\n",
        "else:\r\n",
        "  print(\"this will never happen.\")\r\n"
      ],
      "execution_count": null,
      "outputs": [
        {
          "output_type": "stream",
          "text": [
            "Enter the cost of the bike : 200000\n",
            "Road tax to be paid is 20%. Road tax to be paid is 40000.0\n"
          ],
          "name": "stdout"
        }
      ]
    }
  ]
}