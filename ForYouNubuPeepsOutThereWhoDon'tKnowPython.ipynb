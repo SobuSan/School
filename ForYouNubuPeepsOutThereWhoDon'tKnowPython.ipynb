{
  "nbformat": 4,
  "nbformat_minor": 0,
  "metadata": {
    "colab": {
      "name": "ForYouNubuPeepsOutThereWhoDon'tKnowPython.ipynb",
      "provenance": [],
      "collapsed_sections": [],
      "authorship_tag": "ABX9TyPOaw8wSBgCWgNoJAlZulCj",
      "include_colab_link": true
    },
    "kernelspec": {
      "name": "python3",
      "display_name": "Python 3"
    }
  },
  "cells": [
    {
      "cell_type": "markdown",
      "metadata": {
        "id": "view-in-github",
        "colab_type": "text"
      },
      "source": [
        "<a href=\"https://colab.research.google.com/github/SobuSan/School/blob/main/ForYouNubuPeepsOutThereWhoDon'tKnowPython.ipynb\" target=\"_parent\"><img src=\"https://colab.research.google.com/assets/colab-badge.svg\" alt=\"Open In Colab\"/></a>"
      ]
    },
    {
      "cell_type": "code",
      "metadata": {
        "colab": {
          "base_uri": "https://localhost:8080/"
        },
        "id": "jAutsI9-c6vM",
        "outputId": "e0cf4501-32eb-4774-ca9a-f2700f5b471a"
      },
      "source": [
        "rad = int(input('Radius = ')) # radius = r\r\n",
        "area = 3.14 * rad * rad # pi x r^2 \r\n",
        "circum = 3.14 * 2 * rad # 2 x pi x r\r\n",
        "print(\"area of circle is \" + str(area))\r\n",
        "print(\"circumference of circle is \" + str(circum))"
      ],
      "execution_count": null,
      "outputs": [
        {
          "output_type": "stream",
          "text": [
            "Radius = 12\n",
            "area of circle is 452.15999999999997\n",
            "circumference of circle is 75.36\n"
          ],
          "name": "stdout"
        }
      ]
    },
    {
      "cell_type": "code",
      "metadata": {
        "colab": {
          "base_uri": "https://localhost:8080/"
        },
        "id": "Kt26Pa7DjopA",
        "outputId": "d851877d-ef1e-4253-843e-9bc77430eea6"
      },
      "source": [
        "a = int(input('length of side a : '))\r\n",
        "b = int(input('length of side b : '))\r\n",
        "c = int(input('length of side c : '))\r\n",
        "if a == b == c: # side a = side b = side c\r\n",
        "  print(\"it is an equilateral triangle.\")\r\n",
        "elif a == b != c or b == c != a or a == c != b: # one of the sides is not equal\r\n",
        "  print(\"it is an isosceles triangle.\")\r\n",
        "else: # all the sides are unequal\r\n",
        "  print(\"it is an scalene triangle.\")"
      ],
      "execution_count": null,
      "outputs": [
        {
          "output_type": "stream",
          "text": [
            "length of side a : 1\n",
            "length of side b : 1\n",
            "length of side c : 1\n",
            "it is an equilateral triangle.\n"
          ],
          "name": "stdout"
        }
      ]
    },
    {
      "cell_type": "code",
      "metadata": {
        "colab": {
          "base_uri": "https://localhost:8080/"
        },
        "id": "VqvpPhPdkvHE",
        "outputId": "d25139a6-5e65-4ed6-adb8-ee3a8e04a620"
      },
      "source": [
        "age = int(input(\"user's age : \"))\r\n",
        "if age >= 18: # well is your age is under 18 you can't vote\r\n",
        "  print(\"User is eligible.\")\r\n",
        "else:\r\n",
        "  print(\"User is not eligible.\")"
      ],
      "execution_count": null,
      "outputs": [
        {
          "output_type": "stream",
          "text": [
            "user's age : 2\n",
            "User is not eligible.\n"
          ],
          "name": "stdout"
        }
      ]
    },
    {
      "cell_type": "code",
      "metadata": {
        "colab": {
          "base_uri": "https://localhost:8080/"
        },
        "id": "ebQt7sRFmlOd",
        "outputId": "f87047d2-3c85-42ab-aead-639cbb1fd20b"
      },
      "source": [
        "num = range(0, 10)\r\n",
        "sum = 0\r\n",
        "for i in num:\r\n",
        "  sum += i # sum += i basically means sum = sum + i\r\n",
        "  print(sum)\r\n"
      ],
      "execution_count": null,
      "outputs": [
        {
          "output_type": "stream",
          "text": [
            "0\n",
            "1\n",
            "3\n",
            "6\n",
            "10\n",
            "15\n",
            "21\n",
            "28\n",
            "36\n",
            "45\n"
          ],
          "name": "stdout"
        }
      ]
    },
    {
      "cell_type": "code",
      "metadata": {
        "colab": {
          "base_uri": "https://localhost:8080/"
        },
        "id": "IMeIRErioh2W",
        "outputId": "c8cbd742-5a5e-4617-e707-57e159a6aaff"
      },
      "source": [
        "num = int(input(\"Enter your number : \"))\r\n",
        "if num % 2 == 0: # the operator % is used to find the remainder\r\n",
        "  print(str(num) + \" is an even number.\")\r\n",
        "else:\r\n",
        "  print(str(num) + \" is an odd number.\")\r\n"
      ],
      "execution_count": null,
      "outputs": [
        {
          "output_type": "stream",
          "text": [
            "Enter your number : 0\n",
            "0 is an even number.\n"
          ],
          "name": "stdout"
        }
      ]
    },
    {
      "cell_type": "code",
      "metadata": {
        "colab": {
          "base_uri": "https://localhost:8080/"
        },
        "id": "_I-BWhnZq1hB",
        "outputId": "d990c343-0907-4664-b684-e0c0c8710ae5"
      },
      "source": [
        "num = int(input(\"Enter the number : \"))\r\n",
        "table = range(1, 11) # Makes a range like [1, 2, 3, 4 , 5, 6, 7, 8, 9, 10]\r\n",
        "for i in table: # Index in python starts from 0\r\n",
        "  mult = num * i\r\n",
        "  print(str(num) + \" x \" + str(i) + \" = \" + str(mult))"
      ],
      "execution_count": null,
      "outputs": [
        {
          "output_type": "stream",
          "text": [
            "Enter the number : 2\n",
            "2 x 1 = 2\n",
            "2 x 2 = 4\n",
            "2 x 3 = 6\n",
            "2 x 4 = 8\n",
            "2 x 5 = 10\n",
            "2 x 6 = 12\n",
            "2 x 7 = 14\n",
            "2 x 8 = 16\n",
            "2 x 9 = 18\n",
            "2 x 10 = 20\n"
          ],
          "name": "stdout"
        }
      ]
    },
    {
      "cell_type": "code",
      "metadata": {
        "colab": {
          "base_uri": "https://localhost:8080/"
        },
        "id": "7rswiH8Kt1lx",
        "outputId": "e8562674-3c53-429d-c4fd-1c47ea1eb936"
      },
      "source": [
        "price = int(input(\"Enter the cost of the bike : \")) # Takes input\r\n",
        "if price <= 50000:\r\n",
        "  percent = price * 5 / 100\r\n",
        "  print(\"Road tax to be paid is 5%.\" + \" Road tax to be paid is \" + str(percent))\r\n",
        "elif price > 50000 and price <= 100000:\r\n",
        "  percent1 = price * 10 / 100 # Remember to not use the same variable for different valeus in this case\r\n",
        "  print(\"Road tax to be paid is 10%.\" + \" Road tax to be paid is \" + str(percent1))\r\n",
        "elif price > 100000:\r\n",
        "  percent2 = price * 20 / 100\r\n",
        "  print(\"Road tax to be paid is 20%.\" + \" Road tax to be paid is \" + str(percent2))\r\n",
        "else:\r\n",
        "  print(\"this will never happen.\") # mathematically speaking this condition will never occur... sad man else is lonely\r\n"
      ],
      "execution_count": 1,
      "outputs": [
        {
          "output_type": "stream",
          "text": [
            "Enter the cost of the bike : 314890\n",
            "Road tax to be paid is 20%. Road tax to be paid is 62978.0\n"
          ],
          "name": "stdout"
        }
      ]
    },
    {
      "cell_type": "code",
      "metadata": {
        "colab": {
          "base_uri": "https://localhost:8080/"
        },
        "id": "tvCqfIMBCrHN",
        "outputId": "3b9339d5-59bf-491a-e0d9-4f656b8de9b7"
      },
      "source": [
        "units = int(input(\"How much unit have consumed : \")) # Takes input from the user\r\n",
        "price = 0\r\n",
        "T_price = 0 # Real price to be paid\r\n",
        "R_unit = range(units)\r\n",
        "if units <= 100:\r\n",
        "  price += 0\r\n",
        "elif units > 100 and units <= 200:\r\n",
        "  for i in R_unit:\r\n",
        "    price += 5\r\n",
        "    T_price = price - 500\r\n",
        "elif units > 200:\r\n",
        "  for i in R_unit:\r\n",
        "    price += 10\r\n",
        "    T_price = price - 1500\r\n",
        "else:\r\n",
        "  #lmao this lonely line T^T just like me who will never be used\r\n",
        "  print(\"peepeepoopoooou\") \r\n",
        "print(T_price)"
      ],
      "execution_count": 28,
      "outputs": [
        {
          "output_type": "stream",
          "text": [
            "How much unit have consumed : 180\n",
            "400\n"
          ],
          "name": "stdout"
        }
      ]
    },
    {
      "cell_type": "code",
      "metadata": {
        "colab": {
          "base_uri": "https://localhost:8080/"
        },
        "id": "V3-tijaeGmE1",
        "outputId": "514dd6ca-b7b4-4c99-83ba-bc4632760a19"
      },
      "source": [
        "mylist = \"Hello Python\"\r\n",
        "print(mylist.replace(\" Python\", \"\"))\r\n",
        "print(mylist.translate({ord(i): None for i in 'Hello thn'}))\r\n",
        "# lol i forgot the code and was stuck here for like 30mins T^T"
      ],
      "execution_count": 82,
      "outputs": [
        {
          "output_type": "stream",
          "text": [
            "Hello\n",
            "Py\n"
          ],
          "name": "stdout"
        }
      ]
    },
    {
      "cell_type": "code",
      "metadata": {
        "colab": {
          "base_uri": "https://localhost:8080/"
        },
        "id": "sbCGxBmaW-qB",
        "outputId": "67e09a45-1b74-4e4f-b2f4-3dbbafe5d774"
      },
      "source": [
        "marks1, marks2, marks3 = int(input(\"what are your marks for subject1 : \")), int(input(\"what are your marks for subject2 : \")), int(input(\"what are your marks for subject3 : \"))\r\n",
        "avg = (marks1 + marks2 + marks3) / 3\r\n",
        "print(str(avg))\r\n",
        "# Yes you can also write variables side by side separated by commas"
      ],
      "execution_count": 87,
      "outputs": [
        {
          "output_type": "stream",
          "text": [
            "what are your marks for subject1 : 12\n",
            "what are your marks for subject2 : 14\n",
            "what are your marks for subject3 : 19\n",
            "15.0\n"
          ],
          "name": "stdout"
        }
      ]
    },
    {
      "cell_type": "code",
      "metadata": {
        "colab": {
          "base_uri": "https://localhost:8080/"
        },
        "id": "RTJklBgFYeWx",
        "outputId": "9b04cf48-2d07-4ee9-bd62-9ceccb318176"
      },
      "source": [
        "# Mane not gonna lie i spent 40mins on this question i don't get it. This is what i made in like 10 mins but the  answer is always a string. IDK anymore i go kms.\r\n",
        "data = input(\"input the data whose datatype you need to find : \")\r\n",
        "\r\n",
        "if isinstance(data, int): # integer\r\n",
        "    print(\"data is an integer.\")\r\n",
        "elif isinstance(data, float): # whole numbers with decimals and shit like that\r\n",
        "    print(\"data is a float.\")\r\n",
        "elif isinstance(data, str): # a sentence\r\n",
        "    print(\"data is string.\")\r\n",
        "elif isinstance(data, bool): # boolean, i.e. True or False\r\n",
        "    print(\"data is a boolean.\")\r\n",
        "else:\r\n",
        "    print(\"some other datatype which is not in your syllabus ig.\")"
      ],
      "execution_count": 112,
      "outputs": [
        {
          "output_type": "stream",
          "text": [
            "input the data whose datatype you need to find : True\n",
            "data is string.\n"
          ],
          "name": "stdout"
        }
      ]
    },
    {
      "cell_type": "code",
      "metadata": {
        "colab": {
          "base_uri": "https://localhost:8080/"
        },
        "id": "R2_f7_Jkd6GT",
        "outputId": "dee0f691-bbe2-4461-96f8-008560948089"
      },
      "source": [
        "fruits = ['apple', 'mango', 'banana', 'papaya', 'orange', 'kiwi'] # You can choose any fruits you want btw\r\n",
        "print(*fruits)\r\n",
        "length = len(fruits)\r\n",
        "print(length)\r\n",
        "print(fruits[0]) #remember index starts from 0\r\n",
        "print(fruits[0], fruits[5])"
      ],
      "execution_count": 118,
      "outputs": [
        {
          "output_type": "stream",
          "text": [
            "apple mango banana papaya orange kiwi\n",
            "6\n",
            "apple\n",
            "apple kiwi\n"
          ],
          "name": "stdout"
        }
      ]
    }
  ]
}