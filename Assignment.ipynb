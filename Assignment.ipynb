{
  "nbformat": 4,
  "nbformat_minor": 0,
  "metadata": {
    "colab": {
      "name": "ForYouNubuPeepsOutThereWhoDon'tKnowPython.ipynb",
      "provenance": [],
      "collapsed_sections": [],
      "authorship_tag": "ABX9TyNct4HMEnyWjyXn6G2W98cb",
      "include_colab_link": true
    },
    "kernelspec": {
      "name": "python3",
      "display_name": "Python 3"
    }
  },
  "cells": [
    {
      "cell_type": "markdown",
      "metadata": {
        "id": "view-in-github",
        "colab_type": "text"
      },
      "source": [
        "<a href=\"https://colab.research.google.com/github/SobuSan/School/blob/main/Assignment.ipynb\" target=\"_parent\"><img src=\"https://colab.research.google.com/assets/colab-badge.svg\" alt=\"Open In Colab\"/></a>"
      ]
    },
    {
      "cell_type": "code",
      "metadata": {
        "colab": {
          "base_uri": "https://localhost:8080/"
        },
        "id": "jAutsI9-c6vM",
        "outputId": "e0cf4501-32eb-4774-ca9a-f2700f5b471a"
      },
      "source": [
        "rad = int(input('Radius = ')) # radius = r\n",
        "area = 3.14 * rad * rad # pi x r^2 \n",
        "circum = 3.14 * 2 * rad # 2 x pi x r\n",
        "print(\"area of circle is \" + str(area))\n",
        "print(\"circumference of circle is \" + str(circum))"
      ],
      "execution_count": null,
      "outputs": [
        {
          "output_type": "stream",
          "text": [
            "Radius = 12\n",
            "area of circle is 452.15999999999997\n",
            "circumference of circle is 75.36\n"
          ],
          "name": "stdout"
        }
      ]
    },
    {
      "cell_type": "code",
      "metadata": {
        "colab": {
          "base_uri": "https://localhost:8080/"
        },
        "id": "Kt26Pa7DjopA",
        "outputId": "d851877d-ef1e-4253-843e-9bc77430eea6"
      },
      "source": [
        "a = int(input('length of side a : '))\n",
        "b = int(input('length of side b : '))\n",
        "c = int(input('length of side c : '))\n",
        "if a == b == c: # side a = side b = side c\n",
        "  print(\"it is an equilateral triangle.\")\n",
        "elif a == b != c or b == c != a or a == c != b: # one of the sides is not equal\n",
        "  print(\"it is an isosceles triangle.\")\n",
        "else: # all the sides are unequal\n",
        "  print(\"it is an scalene triangle.\")"
      ],
      "execution_count": null,
      "outputs": [
        {
          "output_type": "stream",
          "text": [
            "length of side a : 1\n",
            "length of side b : 1\n",
            "length of side c : 1\n",
            "it is an equilateral triangle.\n"
          ],
          "name": "stdout"
        }
      ]
    },
    {
      "cell_type": "code",
      "metadata": {
        "colab": {
          "base_uri": "https://localhost:8080/"
        },
        "id": "VqvpPhPdkvHE",
        "outputId": "d25139a6-5e65-4ed6-adb8-ee3a8e04a620"
      },
      "source": [
        "age = int(input(\"user's age : \"))\n",
        "if age >= 18: # well is your age is under 18 you can't vote\n",
        "  print(\"User is eligible.\")\n",
        "else:\n",
        "  print(\"User is not eligible.\")"
      ],
      "execution_count": null,
      "outputs": [
        {
          "output_type": "stream",
          "text": [
            "user's age : 2\n",
            "User is not eligible.\n"
          ],
          "name": "stdout"
        }
      ]
    },
    {
      "cell_type": "code",
      "metadata": {
        "colab": {
          "base_uri": "https://localhost:8080/"
        },
        "id": "ebQt7sRFmlOd",
        "outputId": "f87047d2-3c85-42ab-aead-639cbb1fd20b"
      },
      "source": [
        "num = range(0, 10)\n",
        "sum = 0\n",
        "for i in num:\n",
        "  sum += i # sum += i basically means sum = sum + i\n",
        "  print(sum)\n"
      ],
      "execution_count": null,
      "outputs": [
        {
          "output_type": "stream",
          "text": [
            "0\n",
            "1\n",
            "3\n",
            "6\n",
            "10\n",
            "15\n",
            "21\n",
            "28\n",
            "36\n",
            "45\n"
          ],
          "name": "stdout"
        }
      ]
    },
    {
      "cell_type": "code",
      "metadata": {
        "colab": {
          "base_uri": "https://localhost:8080/"
        },
        "id": "IMeIRErioh2W",
        "outputId": "c8cbd742-5a5e-4617-e707-57e159a6aaff"
      },
      "source": [
        "num = int(input(\"Enter your number : \"))\n",
        "if num % 2 == 0: # the operator % is used to find the remainder\n",
        "  print(str(num) + \" is an even number.\")\n",
        "else:\n",
        "  print(str(num) + \" is an odd number.\")\n"
      ],
      "execution_count": null,
      "outputs": [
        {
          "output_type": "stream",
          "text": [
            "Enter your number : 0\n",
            "0 is an even number.\n"
          ],
          "name": "stdout"
        }
      ]
    },
    {
      "cell_type": "code",
      "metadata": {
        "colab": {
          "base_uri": "https://localhost:8080/"
        },
        "id": "_I-BWhnZq1hB",
        "outputId": "d990c343-0907-4664-b684-e0c0c8710ae5"
      },
      "source": [
        "num = int(input(\"Enter the number : \"))\n",
        "table = range(1, 11) # Makes a range like [1, 2, 3, 4 , 5, 6, 7, 8, 9, 10]\n",
        "for i in table: # Index in python starts from 0\n",
        "  mult = num * i\n",
        "  print(str(num) + \" x \" + str(i) + \" = \" + str(mult))"
      ],
      "execution_count": null,
      "outputs": [
        {
          "output_type": "stream",
          "text": [
            "Enter the number : 2\n",
            "2 x 1 = 2\n",
            "2 x 2 = 4\n",
            "2 x 3 = 6\n",
            "2 x 4 = 8\n",
            "2 x 5 = 10\n",
            "2 x 6 = 12\n",
            "2 x 7 = 14\n",
            "2 x 8 = 16\n",
            "2 x 9 = 18\n",
            "2 x 10 = 20\n"
          ],
          "name": "stdout"
        }
      ]
    },
    {
      "cell_type": "code",
      "metadata": {
        "colab": {
          "base_uri": "https://localhost:8080/"
        },
        "id": "7rswiH8Kt1lx",
        "outputId": "e8562674-3c53-429d-c4fd-1c47ea1eb936"
      },
      "source": [
        "price = int(input(\"Enter the cost of the bike : \")) # Takes input\n",
        "if price <= 50000:\n",
        "  percent = price * 5 / 100\n",
        "  print(\"Road tax to be paid is 5%.\" + \" Road tax to be paid is \" + str(percent))\n",
        "elif price > 50000 and price <= 100000:\n",
        "  percent1 = price * 10 / 100 # Remember to not use the same variable for different valeus in this case\n",
        "  print(\"Road tax to be paid is 10%.\" + \" Road tax to be paid is \" + str(percent1))\n",
        "elif price > 100000:\n",
        "  percent2 = price * 20 / 100\n",
        "  print(\"Road tax to be paid is 20%.\" + \" Road tax to be paid is \" + str(percent2))\n",
        "else:\n",
        "  print(\"this will never happen.\") # mathematically speaking this condition will never occur... sad man else is lonely\n"
      ],
      "execution_count": null,
      "outputs": [
        {
          "output_type": "stream",
          "text": [
            "Enter the cost of the bike : 314890\n",
            "Road tax to be paid is 20%. Road tax to be paid is 62978.0\n"
          ],
          "name": "stdout"
        }
      ]
    },
    {
      "cell_type": "code",
      "metadata": {
        "colab": {
          "base_uri": "https://localhost:8080/"
        },
        "id": "tvCqfIMBCrHN",
        "outputId": "3b9339d5-59bf-491a-e0d9-4f656b8de9b7"
      },
      "source": [
        "units = int(input(\"How much unit have consumed : \")) # Takes input from the user\n",
        "price = 0\n",
        "T_price = 0 # Real price to be paid\n",
        "R_unit = range(units)\n",
        "if units <= 100:\n",
        "  price += 0\n",
        "elif units > 100 and units <= 200:\n",
        "  for i in R_unit:\n",
        "    price += 5\n",
        "    T_price = price - 500\n",
        "elif units > 200:\n",
        "  for i in R_unit:\n",
        "    price += 10\n",
        "    T_price = price - 1500\n",
        "else:\n",
        "  #lmao this lonely line T^T just like me who will never be used\n",
        "  print(\"peepeepoopoooou\") \n",
        "print(T_price)"
      ],
      "execution_count": null,
      "outputs": [
        {
          "output_type": "stream",
          "text": [
            "How much unit have consumed : 180\n",
            "400\n"
          ],
          "name": "stdout"
        }
      ]
    },
    {
      "cell_type": "code",
      "metadata": {
        "colab": {
          "base_uri": "https://localhost:8080/"
        },
        "id": "V3-tijaeGmE1",
        "outputId": "514dd6ca-b7b4-4c99-83ba-bc4632760a19"
      },
      "source": [
        "mylist = \"Hello Python\"\n",
        "print(mylist.replace(\" Python\", \"\"))\n",
        "print(mylist.translate({ord(i): None for i in 'Hello thn'}))\n",
        "# lol i forgot the code and was stuck here for like 30mins T^T"
      ],
      "execution_count": null,
      "outputs": [
        {
          "output_type": "stream",
          "text": [
            "Hello\n",
            "Py\n"
          ],
          "name": "stdout"
        }
      ]
    },
    {
      "cell_type": "code",
      "metadata": {
        "colab": {
          "base_uri": "https://localhost:8080/"
        },
        "id": "sbCGxBmaW-qB",
        "outputId": "67e09a45-1b74-4e4f-b2f4-3dbbafe5d774"
      },
      "source": [
        "marks1, marks2, marks3 = int(input(\"what are your marks for subject1 : \")), int(input(\"what are your marks for subject2 : \")), int(input(\"what are your marks for subject3 : \"))\n",
        "avg = (marks1 + marks2 + marks3) / 3\n",
        "print(str(avg))\n",
        "# Yes you can also write variables side by side separated by commas"
      ],
      "execution_count": null,
      "outputs": [
        {
          "output_type": "stream",
          "text": [
            "what are your marks for subject1 : 12\n",
            "what are your marks for subject2 : 14\n",
            "what are your marks for subject3 : 19\n",
            "15.0\n"
          ],
          "name": "stdout"
        }
      ]
    },
    {
      "cell_type": "code",
      "metadata": {
        "id": "yjlqFvLpRn55",
        "outputId": "36f6c4e5-cec5-45ac-c935-68c223adc4ef",
        "colab": {
          "base_uri": "https://localhost:8080/"
        }
      },
      "source": [
        "length = range(1, 10)\n",
        "while True:\n",
        "  for i in length:\n",
        "    if i % 2 != 0:\n",
        "      print(i)\n",
        "  break"
      ],
      "execution_count": 20,
      "outputs": [
        {
          "output_type": "stream",
          "text": [
            "1\n",
            "3\n",
            "5\n",
            "7\n",
            "9\n"
          ],
          "name": "stdout"
        }
      ]
    },
    {
      "cell_type": "code",
      "metadata": {
        "colab": {
          "base_uri": "https://localhost:8080/"
        },
        "id": "RTJklBgFYeWx",
        "outputId": "9b04cf48-2d07-4ee9-bd62-9ceccb318176"
      },
      "source": [
        "# Mane not gonna lie i spent 40mins on this question i don't get it. This is what i made in like 10 mins but the  answer is always a string. IDK anymore i go kms.\n",
        "data = input(\"input the data whose datatype you need to find : \")\n",
        "\n",
        "if isinstance(data, int): # integer\n",
        "    print(\"data is an integer.\")\n",
        "elif isinstance(data, float): # whole numbers with decimals and shit like that\n",
        "    print(\"data is a float.\")\n",
        "elif isinstance(data, str): # a sentence\n",
        "    print(\"data is string.\")\n",
        "elif isinstance(data, bool): # boolean, i.e. True or False\n",
        "    print(\"data is a boolean.\")\n",
        "else:\n",
        "    print(\"some other datatype which is not in your syllabus ig.\")"
      ],
      "execution_count": null,
      "outputs": [
        {
          "output_type": "stream",
          "text": [
            "input the data whose datatype you need to find : True\n",
            "data is string.\n"
          ],
          "name": "stdout"
        }
      ]
    },
    {
      "cell_type": "code",
      "metadata": {
        "colab": {
          "base_uri": "https://localhost:8080/"
        },
        "id": "R2_f7_Jkd6GT",
        "outputId": "47bab4cb-5a30-493b-ecf2-9b348917ee22"
      },
      "source": [
        "fruits = ['apple', 'mango', 'banana', 'papaya', 'orange', 'kiwi'] # You can choose any fruits you want btw\n",
        "print(*fruits)\n",
        "length = len(fruits)\n",
        "print(length)\n",
        "print(fruits[0]) #remember index starts from 0\n",
        "print(fruits[0], fruits[5])"
      ],
      "execution_count": null,
      "outputs": [
        {
          "output_type": "stream",
          "text": [
            "apple mango banana papaya orange kiwi\n",
            "6\n",
            "apple\n",
            "apple kiwi\n"
          ],
          "name": "stdout"
        }
      ]
    },
    {
      "cell_type": "code",
      "metadata": {
        "colab": {
          "base_uri": "https://localhost:8080/"
        },
        "id": "5E0m4L-Gle23",
        "outputId": "4ec683d7-be6d-4e94-acdc-d3e5b7bb1350"
      },
      "source": [
        "mylist = [21, 'name', 45.5, 'class9', 99]\n",
        "print(mylist)\n",
        "print(\"length of mylist is \", len(mylist))\n",
        "print(mylist[1], mylist[2])"
      ],
      "execution_count": null,
      "outputs": [
        {
          "output_type": "stream",
          "text": [
            "[21, 'name', 45.5, 'class9', 99]\n",
            "length of mylist is  5\n",
            "name 45.5\n"
          ],
          "name": "stdout"
        }
      ]
    },
    {
      "cell_type": "code",
      "metadata": {
        "colab": {
          "base_uri": "https://localhost:8080/"
        },
        "id": "oRs4HGKqmZNw",
        "outputId": "222d4293-de29-4fa3-f131-c3732a5669a8"
      },
      "source": [
        "length = range(2, 21) # length = 2, 3, 4, 5, 6, 7, 8, 9, 10, 11, 12, 13, 14, 15, 16, 17, 18, 19, 20\n",
        "nums = [ ] # an empty list\n",
        "for i in length:\n",
        "  if i % 2 == 0: # cehcks if i(the number) is a multiple of 2\n",
        "    nums.append(i) # if it is a multiple of 2 then it adds it to the empty list called nums\n",
        "print(*nums) # prints the num list"
      ],
      "execution_count": null,
      "outputs": [
        {
          "output_type": "stream",
          "text": [
            "2 4 6 8 10 12 14 16 18 20\n"
          ],
          "name": "stdout"
        }
      ]
    }
  ]
}